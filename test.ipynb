{
 "cells": [
  {
   "cell_type": "code",
   "execution_count": 1,
   "metadata": {},
   "outputs": [],
   "source": [
    "import pandas as pd\n",
    "from matplotlib import pyplot as plt"
   ]
  },
  {
   "cell_type": "code",
   "execution_count": 2,
   "metadata": {},
   "outputs": [
    {
     "name": "stdout",
     "output_type": "stream",
     "text": [
      "Package           VersionNote: you may need to restart the kernel to use updated packages.\n",
      "\n",
      "----------------- -------\n",
      "asttokens         2.1.0\n",
      "backcall          0.2.0\n",
      "colorama          0.4.6\n",
      "debugpy           1.6.3\n",
      "decorator         4.4.2\n",
      "entrypoints       0.4\n",
      "executing         1.2.0\n",
      "ipykernel         6.17.1\n",
      "ipython           8.6.0\n",
      "jedi              0.18.1\n",
      "jupyter_client    7.4.5\n",
      "jupyter_core      5.0.0\n",
      "matplotlib-inline 0.1.6\n",
      "nest-asyncio      1.5.6\n",
      "numpy             1.23.4\n",
      "packaging         21.3\n",
      "pandas            1.5.1\n",
      "parso             0.8.3\n",
      "pickleshare       0.7.5\n",
      "pip               21.2.3\n",
      "platformdirs      2.5.4\n",
      "prompt-toolkit    3.0.32\n",
      "psutil            5.9.4\n",
      "pure-eval         0.2.2\n",
      "pyglet            1.5.26\n",
      "Pygments          2.13.0\n",
      "pyparsing         3.0.9\n",
      "python-dateutil   2.8.2\n",
      "pytz              2022.6\n",
      "pywin32           305\n",
      "pyzmq             24.0.1\n",
      "setuptools        57.4.0\n",
      "six               1.16.0\n",
      "stack-data        0.6.1\n",
      "tornado           6.2\n",
      "traitlets         5.5.0\n",
      "wcwidth           0.2.5\n"
     ]
    },
    {
     "name": "stderr",
     "output_type": "stream",
     "text": [
      "WARNING: You are using pip version 21.2.3; however, version 22.3.1 is available.\n",
      "You should consider upgrading via the 'c:\\Program Files\\Python310\\python.exe -m pip install --upgrade pip' command.\n"
     ]
    }
   ],
   "source": [
    "pip list"
   ]
  },
  {
   "cell_type": "code",
   "execution_count": null,
   "metadata": {},
   "outputs": [],
   "source": [
    "plotdata['family_streaming_df'].plot(kind=\"barh\")\n",
    "plt.title(\"Mince Pie Consumption Study Results\")\n",
    "plt.ylabel(\"Family Member\")\n",
    "plt.xlabel(\"Pies Consumed\")plotdata['family_streaming_df'].plot(kind=\"barh\")\n",
    "plt.title(\"Mince Pie Consumption Study Results\")\n",
    "plt.ylabel(\"Family Member\")\n",
    "plt.xlabel(\"Pies Consumed\")"
   ]
  }
 ],
 "metadata": {
  "kernelspec": {
   "display_name": "Python 3.10.0 64-bit",
   "language": "python",
   "name": "python3"
  },
  "language_info": {
   "codemirror_mode": {
    "name": "ipython",
    "version": 3
   },
   "file_extension": ".py",
   "mimetype": "text/x-python",
   "name": "python",
   "nbconvert_exporter": "python",
   "pygments_lexer": "ipython3",
   "version": "3.10.0"
  },
  "orig_nbformat": 4,
  "vscode": {
   "interpreter": {
    "hash": "26de051ba29f2982a8de78e945f0abaf191376122a1563185a90213a26c5da77"
   }
  }
 },
 "nbformat": 4,
 "nbformat_minor": 2
}
